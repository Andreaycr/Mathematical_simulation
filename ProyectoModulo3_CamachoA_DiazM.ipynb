{
 "cells": [
  {
   "cell_type": "markdown",
   "metadata": {},
   "source": [
    "<img style=\"float: right; margin: 0px 0px 15px 15px;\" src=\"https://www.thoughtco.com/thmb/KEXYeuqtI767jt1XqkObGqM_Xtw=/1500x0/filters:no_upscale():max_bytes(150000):strip_icc()/GettyImages-144635668-1d9932afb0cd44a2ad33b1f0329d6ec6.jpg\" width=\"400px\" height=\"300px\" />\n",
    "\n",
    "# PROYECTO MODULO 2 #\n",
    "\n",
    "> Realizado por Andrea Camacho y Mariana Artemisa Diaz Meza\n",
    "\n",
    "> Fecha: 30 de noviembre de 2022\n",
    "\n",
    "> Profesor: Carlos Muro\n",
    "\n",
    "> Materia: Simulacion matematica\n",
    "---"
   ]
  },
  {
   "cell_type": "markdown",
   "metadata": {},
   "source": [
    "## Objetivos del proyecto\n",
    "\n",
    "### Objetivo general\n",
    "\n",
    "Estudiar el circuto RLC completo en serie con una entrada del voltaje (E) constante.\n",
    "\n",
    "### Objetivo especifico\n",
    "\n",
    "Comprobar que lo que se produce en la salida son oscilaciones libres.\n",
    "\n",
    "Utilizar la Ecuación Diferencial Lineal general del circuito.\n",
    "\n",
    " ---"
   ]
  },
  {
   "cell_type": "markdown",
   "metadata": {},
   "source": [
    "## Modelo del problema"
   ]
  },
  {
   "cell_type": "markdown",
   "metadata": {},
   "source": [
    "El circuito RLC en serie consiste de una resistencia (R), un inductor (L) y un condensador (C). Al inducir una corriente $E(t)$ dependiente del tiempo surge otra corriente que será una modificación de la corriente de entrada dependiendo de los tres parámetros $R$,$L$,$C$.\n",
    "\n",
    "Así, por la Ley de Kirchhoff se tiene:\n",
    "\n",
    "$$E(t)=L\\frac{di}{dt}+Ri+\\frac{q}{C}$$\n",
    "\n",
    "Pero la carga $q(t)$ en el capacitor se relaciona con la corriente $i(t)$ con $i=\\frac{dq}{dt}$. Así, la ecuación anterior quedaría como una ecuación diferencial lineal de segundo orden de la forma:\n",
    "\n",
    "$$E(t)=L\\frac{d^2q}{dt^2}+R\\frac{dq}{dt}+\\frac{q}{C}$$"
   ]
  },
  {
   "cell_type": "markdown",
   "metadata": {},
   "source": [
    "---\n",
    "**Circuito RLC completo con entrada constante**\n",
    "\n",
    "[Descarga enlace para visualizar](https://iteso01-my.sharepoint.com/:i:/g/personal/nt726652_iteso_mxEbq2HjgOlHZDp4QfESMsUyIBofapT4Cp-2yCaXNGVooQwA?e=nHdQSS)\n",
    "\n",
    "Condiciones del circuito:\n",
    "\n",
    "* $E(t)=cte$\n",
    "\n",
    "* $L=0.25 [H]$\n",
    "\n",
    "* $R=10 [\\Omega]$\n",
    "\n",
    "* $C=0.001 [F]$\n",
    "\n",
    "* $q(0)=10 [C]$\n",
    "\n",
    "* $i(0)=0$\n",
    "\n",
    "\n",
    "Sustituyendo las condiciones de R, L, C y E en la ecuación diferencial, se tiene:\n",
    "\n",
    "$$\\frac{1}{4}\\ddot{q}+10\\dot{q}+1000q=0$$\n",
    "\n",
    "Multiplicando por 4 para dejar la doble derivada sin coeficiente:\n",
    "\n",
    "$$\\ddot{q}+40\\dot{q}+4000q=0$$\n",
    "\n",
    "Al resolver esta ecuación, se tendrá una solución simplificada de la forma:\n",
    "\n",
    "$$Ae^{-\\lambda t}\\sin{(\\sqrt{\\omega^2-\\lambda^2} t+\\phi)}$$\n",
    "\n",
    "Donde A es la magnitud $\\sqrt{C_1^2+C_2^2}$ y ángulo de fase $\\tan{\\phi}=\\frac{C_1}{C_2}$\n",
    "\n",
    "Para encontrar el valor de las constantes se utilizarán las últimas dos condiciones, tomando en cuenta que $i(0)=\\dot{q}(0)$\n",
    "\n",
    "Al graficar el resultado se espera tener un circuito sobreamortiguado, críticamente amortiguado o subamortiguado."
   ]
  },
  {
   "cell_type": "markdown",
   "metadata": {},
   "source": [
    "## Solucion del problema\n"
   ]
  },
  {
   "cell_type": "code",
   "execution_count": 1,
   "metadata": {},
   "outputs": [],
   "source": [
    "# Importar librerías\n",
    "import numpy as np\n",
    "from matplotlib import pyplot as plt\n",
    "import sympy as sym"
   ]
  },
  {
   "cell_type": "code",
   "execution_count": 2,
   "metadata": {},
   "outputs": [],
   "source": [
    "from ipywidgets import *"
   ]
  },
  {
   "cell_type": "code",
   "execution_count": 3,
   "metadata": {},
   "outputs": [
    {
     "data": {
      "text/latex": [
       "$\\displaystyle q{\\left(t \\right)}$"
      ],
      "text/plain": [
       "q(t)"
      ]
     },
     "execution_count": 3,
     "metadata": {},
     "output_type": "execute_result"
    }
   ],
   "source": [
    "# Variables\n",
    "sym.var('t',real=True)\n",
    "Q = sym.Function('q')\n",
    "Q(t)"
   ]
  },
  {
   "cell_type": "code",
   "execution_count": 4,
   "metadata": {},
   "outputs": [
    {
     "data": {
      "text/latex": [
       "$\\displaystyle 4000 q{\\left(t \\right)} + 40 \\frac{d}{d t} q{\\left(t \\right)} + \\frac{d^{2}}{d t^{2}} q{\\left(t \\right)}$"
      ],
      "text/plain": [
       "4000*q(t) + 40*Derivative(q(t), t) + Derivative(q(t), (t, 2))"
      ]
     },
     "execution_count": 4,
     "metadata": {},
     "output_type": "execute_result"
    }
   ],
   "source": [
    "# Ecuación diferencial\n",
    "eq = Q(t).diff(t,t)+40*Q(t).diff(t)+4000*Q(t)\n",
    "eq"
   ]
  },
  {
   "cell_type": "code",
   "execution_count": 5,
   "metadata": {},
   "outputs": [
    {
     "data": {
      "text/latex": [
       "$\\displaystyle q{\\left(t \\right)} = \\left(C_{1} \\sin{\\left(60 t \\right)} + C_{2} \\cos{\\left(60 t \\right)}\\right) e^{- 20 t}$"
      ],
      "text/plain": [
       "Eq(q(t), (C1*sin(60*t) + C2*cos(60*t))*exp(-20*t))"
      ]
     },
     "execution_count": 5,
     "metadata": {},
     "output_type": "execute_result"
    }
   ],
   "source": [
    "# Solución a la ecuación diferencial\n",
    "sol = sym.dsolve(eq,Q(t))\n",
    "sol"
   ]
  },
  {
   "cell_type": "code",
   "execution_count": 6,
   "metadata": {},
   "outputs": [
    {
     "data": {
      "text/latex": [
       "$\\displaystyle - 20 \\left(C_{1} \\sin{\\left(60 t \\right)} + C_{2} \\cos{\\left(60 t \\right)}\\right) e^{- 20 t} + \\left(60 C_{1} \\cos{\\left(60 t \\right)} - 60 C_{2} \\sin{\\left(60 t \\right)}\\right) e^{- 20 t}$"
      ],
      "text/plain": [
       "-20*(C1*sin(60*t) + C2*cos(60*t))*exp(-20*t) + (60*C1*cos(60*t) - 60*C2*sin(60*t))*exp(-20*t)"
      ]
     },
     "execution_count": 6,
     "metadata": {},
     "output_type": "execute_result"
    }
   ],
   "source": [
    "# Valores de las constantes C_1 y C_2\n",
    "\n",
    "#   Derivada de la carga; corriente\n",
    "sym.var('C1',real=True)\n",
    "sym.var('C2',real=True)\n",
    "sym.diff(sym.exp(-20*t)*(C1*sym.sin(60*t)+C2*sym.cos(60*t)),t)"
   ]
  },
  {
   "cell_type": "markdown",
   "metadata": {},
   "source": [
    "---\n",
    "Conociendo la función de la corriente respecto al tiempo se puede encontrar las constantes $C_1$ y $C_2$:\n",
    "\n",
    "* $q(0)=10[C]$:\n",
    "\n",
    "$$q(0)=e^{-20(0)}(C_1\\sin{(60(0))}+C_2\\cos{(60(0))})=10$$\n",
    "\n",
    "Despejando $C_1$ se tiene un valor de $10$.\n",
    "\n",
    "* $i(0)=0$\n",
    "\n",
    "$$i(0)=-20e^{-20(0)}(C_1\\sin{(60(0))}+C_2\\cos{60(0)})+60e^-{-20(0)}(C_1\\cos{60(0)}-C_2\\sin{60(0)})$$\n",
    "\n",
    "Despejando $C_2$ se tiene un valor de $3C_1$ o lo que es lo mismo; $30$."
   ]
  },
  {
   "cell_type": "markdown",
   "metadata": {},
   "source": [
    "La solución sería entonces:\n",
    "\n",
    "$$q(t)=e^{-20t}(10\\sin{(60t)}+20\\cos{(60t)})$$\n",
    "\n",
    "o bien, de manera simplificada y como se vio al inicio, quedaría:\n",
    "\n",
    "<font color=red> $$q(t)=10\\sqrt{10}e^{-20t}\\sin{60t+0.3218}$$ </font>"
   ]
  },
  {
   "cell_type": "markdown",
   "metadata": {},
   "source": [
    "## Visualizacion del problema"
   ]
  },
  {
   "cell_type": "code",
   "execution_count": 7,
   "metadata": {},
   "outputs": [],
   "source": [
    "def solut(t,C1,C2):\n",
    "    return np.exp(-20*t)*(C1*np.sin(60*t)+C2*np.cos(60*t))"
   ]
  },
  {
   "cell_type": "code",
   "execution_count": 8,
   "metadata": {
    "scrolled": true
   },
   "outputs": [
    {
     "data": {
      "image/png": "[encoded data removed]",
      "text/plain": [
       "<Figure size 432x288 with 1 Axes>"
      ]
     },
     "metadata": {
      "needs_background": "light"
     },
     "output_type": "display_data"
    }
   ],
   "source": [
    "C1 = 10\n",
    "C2 = 3*C1\n",
    "t=np.linspace(0,1,100)\n",
    "plt.plot(t,solut(t,C1,C2))\n",
    "plt.xlabel('Tiempo')\n",
    "plt.title('Movimiento subamortiguado')\n",
    "plt.grid()"
   ]
  },
  {
   "cell_type": "code",
   "execution_count": 9,
   "metadata": {
    "scrolled": true
   },
   "outputs": [
    {
     "data": {
      "application/vnd.jupyter.widget-view+json": {
       "model_id": "7ae0725098644d0ca2836c7f7ad8913e",
       "version_major": 2,
       "version_minor": 0
      },
      "text/plain": [
       "interactive(children=(FloatSlider(value=10.0, description='C1', max=20.0, min=0.1, step=1.0), FloatSlider(valu…"
      ]
     },
     "metadata": {},
     "output_type": "display_data"
    }
   ],
   "source": [
    "@interact(C1=(0.1,20,1),C2=(0.1,40,1.1))\n",
    "\n",
    "def grafico(C1=10,C2=30):\n",
    "    t=np.linspace(0,1,100)\n",
    "    x=solut(t,C1,C2)\n",
    "\n",
    "    plt.plot(t,x,label='Movimiento subamortiguado')\n",
    "    plt.legend(loc='center left',bbox_to_anchor=(1.01,0.5))\n",
    "    plt.axis([0,1,-20,35])\n",
    "    plt.grid()"
   ]
  },
  {
   "cell_type": "markdown",
   "metadata": {},
   "source": [
    "## Conclusiones\n"
   ]
  },
  {
   "cell_type": "markdown",
   "metadata": {},
   "source": [
    "Con las condiciones iniciales, los valores de los componentes y la ecuación diferencia, se obtuvo que el comportamiento del circuito es subamortiguado, es decir, la corriente se ve como una onda senoidal que siminuye con el tiempo. Esto representa una resonancia de manera natural, sin una fuente impulsora."
   ]
  },
  {
   "cell_type": "markdown",
   "metadata": {},
   "source": [
    "## Referencias"
   ]
  },
  {
   "cell_type": "markdown",
   "metadata": {},
   "source": [
    "[Ruiz, C. (2020). Aplicación: el circuito RLC. Departamento de Análisis Matemáticos. España: Universidad Complutense. ](https://blogs.mat.ucm.es/cruizb/wp-content/uploads/sites/48/2020/07/M-EDO2-RLC.pdf)"
   ]
  }
 ],
 "metadata": {
  "kernelspec": {
   "display_name": "Python 3",
   "language": "python",
   "name": "python3"
  },
  "language_info": {
   "codemirror_mode": {
    "name": "ipython",
    "version": 3
   },
   "file_extension": ".py",
   "mimetype": "text/x-python",
   "name": "python",
   "nbconvert_exporter": "python",
   "pygments_lexer": "ipython3",
   "version": "3.8.5"
  }
 },
 "nbformat": 4,
 "nbformat_minor": 4
}
