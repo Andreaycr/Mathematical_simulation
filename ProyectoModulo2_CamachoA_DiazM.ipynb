{
 "cells": [
  {
   "cell_type": "markdown",
   "metadata": {},
   "source": [
    "<img style=\"float: right; margin: 0px 0px 15px 15px;\" src=\"https://cdn.pixabay.com/photo/2013/07/12/19/02/bunsen-burner-154235_1280.png\" width=\"200px\" height=\"100px\" />\n",
    "\n",
    "# PROYECTO MODULO 2 #\n",
    "\n",
    "> Realizado por Andrea Camacho y Mariana Artemisa Diaz Meza\n",
    "\n",
    "> Fecha: 26 de octubre de 2022\n",
    "\n",
    "> Profesor: Carlos Muro\n",
    "\n",
    "> Materia: Simulacion matematica\n",
    "---"
   ]
  },
  {
   "cell_type": "markdown",
   "metadata": {},
   "source": [
    "## Objetivos del proyecto\n",
    "\n",
    "### Objetivo general\n",
    "\n",
    "Conocer el área determinada de dos zonas que generada un mechero Bunsen con entrada de aire y la temperatura producida.\n",
    "\n",
    "### Objetivo especifico\n",
    "\n",
    "Con conocimientos previos de esterilización en laboratorios, se va a buscar un área en la flama que nos pueda ayudar en este procedimiento.\n",
    "\n",
    "Por medio de la integración Montecarlo y la variable de Bernoulli para saber con precisión el área que tenemos disponible para realizar la esterilización de instrumentos como asas bacteriológicas. \n",
    "\n",
    " ---"
   ]
  },
  {
   "cell_type": "markdown",
   "metadata": {},
   "source": [
    "## Modelo del problema"
   ]
  },
  {
   "cell_type": "markdown",
   "metadata": {},
   "source": [
    "Para crear una función que modele dos secciones de una flama de fuego, se realizaron dos gráficas en Excel con $9$ puntos cada uno con valores de $x$ de $0$ a $4$ en saltos de $0.5$.\n",
    "\n",
    "Al unir estos puntos en cada gráfica se formó una función cuadrática *girada* y desplazada del origen. Después se obtuvo una función polinómica de grado dos del mismo programa.\n",
    "\n",
    "* Puntos para la flama grande\n",
    "\n",
    "$x$|$y$\n",
    ":----|----\n",
    "0|-35\n",
    "0.5|-7.5\n",
    "1|10\n",
    "1.5|17.5\n",
    "2|15\n",
    "2.5|2.5\n",
    "3|-20\n",
    "3.5|-52.5\n",
    "4|-95\n",
    "\n",
    "\n",
    "* Puntos para la flama pequeña\n",
    "\n",
    "$x$|$y$\n",
    ":----|----\n",
    "0|-16\n",
    "0.5|-5\n",
    "1|2\n",
    "1.5|5\n",
    "2|4\n",
    "2.5|-1\n",
    "3|-10\n",
    "3.5|-23\n",
    "4|-40\n",
    "\n",
    "\n",
    "Debido a que los valores en el eje $y$ no presentaban importancia, se tomaron los límites de $0.5\\leq x \\leq 3$ y de $0\\leq y \\leq 6$ para la primera gráfica (flama pequeña) y de $0.5\\leq x \\leq 2.5$, $0\\leq y \\leq 18$ para la segunda gráfica. Lo que nos darían las gráficas resultantes:\n",
    "\n",
    "* Gráfica de la flama pequeña\n",
    " \n",
    "[Descarga enlace para visualizar](https://iteso01-my.sharepoint.com/:i:/g/personal/nt726652_iteso_mx/EZZGVO3wbKpArjCfHNs1pdUB6dXloC9f5IJbDlv5tB9xqQ?e=9AumOL)\n",
    "\n",
    "* Gráfica de la flama grande\n",
    "\n",
    "[Descarga enlace para visualizar](https://iteso01-my.sharepoint.com/:i:/g/personal/nt726652_iteso_mx/EevzXIEW85tOh0yu6BtdecIBjJlcHkKQpGgz2V5n_05Q2A?e=N9gfvG)\n",
    "\n",
    "* Flama grande y pequeña en una sola gráfica simulando el mechero Bunsen\n",
    "\n",
    "[Descarga enlace para visualizar](https://iteso01-my.sharepoint.com/:i:/g/personal/nt726652_iteso_mx/ESfvuLMSxc9Jg8Hl5nP_KlwBwhYvKzbyEJS60eMr5-VLjA?e=i9i2ch)\n",
    "\n",
    "Se puede observar que cada gráfica de las flamas de fuego individuales presentan una ecuación que cumple con los puntos graficados. Ambas ecuaciones resultantes se integrarán por el método de Montecarlo para conocer su área y relacionarlas con el calor que producen en el mechero Bunsen."
   ]
  },
  {
   "cell_type": "markdown",
   "metadata": {},
   "source": [
    "## Solucion del problema\n"
   ]
  },
  {
   "cell_type": "code",
   "execution_count": 52,
   "metadata": {},
   "outputs": [],
   "source": [
    "# Importar librerías\n",
    "import numpy as np\n",
    "import matplotlib.pyplot as plt\n",
    "import pandas as pd"
   ]
  },
  {
   "cell_type": "code",
   "execution_count": 122,
   "metadata": {},
   "outputs": [],
   "source": [
    "# ----- > Región de la flama grande < -----\n",
    "def region1(x1,y1):\n",
    "    return y1 <= -20*x1**2+65*x1-35"
   ]
  },
  {
   "cell_type": "code",
   "execution_count": 128,
   "metadata": {},
   "outputs": [],
   "source": [
    "# ----- > Región de la flama pequeña < -----\n",
    "def region2(x2,y2):\n",
    "    return y2 <= -8*x2**2+26*x2-16"
   ]
  },
  {
   "cell_type": "code",
   "execution_count": 129,
   "metadata": {},
   "outputs": [],
   "source": [
    "# ----- > Función de Montecarlo para la flama grande < -----\n",
    "def montecarlo1(region1,a1,b1,a2,b2,N):\n",
    "    ux1=np.random.uniform(a1,b1,N)           \n",
    "    uy1=np.random.uniform(a2,b2,N)       \n",
    "    B1=region1(ux1,uy1)                     \n",
    "    AR=(b1-a1)*(b2-a2)                    \n",
    "    return np.mean(B1)*AR"
   ]
  },
  {
   "cell_type": "code",
   "execution_count": 130,
   "metadata": {},
   "outputs": [],
   "source": [
    "# ----- > Función de Montecarlo para la flama pequeña < -----\n",
    "def montecarlo2(region2,a1,b1,a2,b2,N):\n",
    "    ux2=np.random.uniform(a1,b1,N)          \n",
    "    uy2=np.random.uniform(a2,b2,N)           \n",
    "    B2=region2(ux2,uy2)                       \n",
    "    AR=(b1-a1)*(b2-a2)                  \n",
    "    return np.mean(B2)*AR"
   ]
  },
  {
   "cell_type": "code",
   "execution_count": 143,
   "metadata": {},
   "outputs": [
    {
     "data": {
      "text/html": [
       "<div>\n",
       "<style scoped>\n",
       "    .dataframe tbody tr th:only-of-type {\n",
       "        vertical-align: middle;\n",
       "    }\n",
       "\n",
       "    .dataframe tbody tr th {\n",
       "        vertical-align: top;\n",
       "    }\n",
       "\n",
       "    .dataframe thead th {\n",
       "        text-align: right;\n",
       "    }\n",
       "</style>\n",
       "<table border=\"1\" class=\"dataframe\">\n",
       "  <thead>\n",
       "    <tr style=\"text-align: right;\">\n",
       "      <th></th>\n",
       "      <th>Área 1</th>\n",
       "      <th>Área 2</th>\n",
       "      <th>Error A1</th>\n",
       "      <th>Error A2</th>\n",
       "      <th>Suma</th>\n",
       "    </tr>\n",
       "  </thead>\n",
       "  <tbody>\n",
       "    <tr>\n",
       "      <th>10</th>\n",
       "      <td>25.2</td>\n",
       "      <td>3.6</td>\n",
       "      <td>0.144914</td>\n",
       "      <td>0.0948683</td>\n",
       "      <td>28.8</td>\n",
       "    </tr>\n",
       "    <tr>\n",
       "      <th>100</th>\n",
       "      <td>23.04</td>\n",
       "      <td>5.76</td>\n",
       "      <td>0.048</td>\n",
       "      <td>0.0366606</td>\n",
       "      <td>28.8</td>\n",
       "    </tr>\n",
       "    <tr>\n",
       "      <th>1000</th>\n",
       "      <td>22.716</td>\n",
       "      <td>5.328</td>\n",
       "      <td>0.0152591</td>\n",
       "      <td>0.0112292</td>\n",
       "      <td>28.044</td>\n",
       "    </tr>\n",
       "    <tr>\n",
       "      <th>10000</th>\n",
       "      <td>22.4856</td>\n",
       "      <td>5.49</td>\n",
       "      <td>0.00484226</td>\n",
       "      <td>0.00359505</td>\n",
       "      <td>27.9756</td>\n",
       "    </tr>\n",
       "    <tr>\n",
       "      <th>100000</th>\n",
       "      <td>22.4586</td>\n",
       "      <td>5.43564</td>\n",
       "      <td>0.00153187</td>\n",
       "      <td>0.00113222</td>\n",
       "      <td>27.8942</td>\n",
       "    </tr>\n",
       "  </tbody>\n",
       "</table>\n",
       "</div>"
      ],
      "text/plain": [
       "         Área 1   Área 2    Error A1    Error A2     Suma\n",
       "10         25.2      3.6    0.144914   0.0948683     28.8\n",
       "100       23.04     5.76       0.048   0.0366606     28.8\n",
       "1000     22.716    5.328   0.0152591   0.0112292   28.044\n",
       "10000   22.4856     5.49  0.00484226  0.00359505  27.9756\n",
       "100000  22.4586  5.43564  0.00153187  0.00113222  27.8942"
      ]
     },
     "execution_count": 143,
     "metadata": {},
     "output_type": "execute_result"
    }
   ],
   "source": [
    "# ----- > Límites de integración (ver 'Visualización del problema') < -----\n",
    "a1,b1 = 0.6,2.6\n",
    "a2,b2 = 0,18\n",
    "AR=(b1-a1)*(b2-a2)\n",
    "N = np.logspace(1,5,5).astype('int')\n",
    "tabla = pd.DataFrame(index=N,columns=['Área 1','Área 2','Error A1','Error A2','Suma'])\n",
    "AR = (b1-a1)*(b2-a2)\n",
    "for n in N:\n",
    "    tabla.loc[n,'Área 1'] = montecarlo1(region1,a1,b1,a2,b2,n)\n",
    "    tabla.loc[n,'Área 2'] = montecarlo2(region2,a1,b1,a2,b2,n)\n",
    "    th1 = tabla.loc[n,'Área 1']/AR\n",
    "    th2 = tabla.loc[n,'Área 2']/AR\n",
    "    tabla.loc[n,'Error A1'] = np.sqrt(th1*(1-th1)/n)\n",
    "    tabla.loc[n,'Error A2'] = np.sqrt(th2*(1-th2)/n)\n",
    "    tabla.loc[n,'Suma'] = tabla.loc[n,'Área 1']+tabla.loc[n,'Área 2']\n",
    "tabla"
   ]
  },
  {
   "cell_type": "markdown",
   "metadata": {},
   "source": [
    "## Visualizacion del problema"
   ]
  },
  {
   "cell_type": "code",
   "execution_count": 177,
   "metadata": {},
   "outputs": [
    {
     "data": {
      "image/png": "[encoded data removed]",
      "text/plain": [
       "<Figure size 432x288 with 1 Axes>"
      ]
     },
     "metadata": {
      "needs_background": "light"
     },
     "output_type": "display_data"
    }
   ],
   "source": [
    "# ----- > Área de la flama grande < -----\n",
    "plt.scatter(X,Y,c=region1(X,Y),cmap='PuBu')\n",
    "plt.xlim([-1,4])\n",
    "plt.ylim([0,20])\n",
    "plt.grid()\n",
    "plt.grid()"
   ]
  },
  {
   "cell_type": "code",
   "execution_count": 178,
   "metadata": {},
   "outputs": [
    {
     "data": {
      "image/png": "[encoded data removed]",
      "text/plain": [
       "<Figure size 432x288 with 1 Axes>"
      ]
     },
     "metadata": {
      "needs_background": "light"
     },
     "output_type": "display_data"
    }
   ],
   "source": [
    "# ----- > Área de la flama pequeña < -----\n",
    "plt.scatter(X,Y,c=region2(X,Y),cmap='PuBu')\n",
    "plt.xlim([-1,4])\n",
    "plt.ylim([0,20])\n",
    "plt.grid()\n",
    "plt.grid()"
   ]
  },
  {
   "cell_type": "markdown",
   "metadata": {},
   "source": [
    "## Conclusiones\n"
   ]
  },
  {
   "cell_type": "markdown",
   "metadata": {},
   "source": [
    "Se pudo identificar la zona en el cuál se puede esterilizar material de laboratorio que es la zona reductora para que alcance alrededor de $1,000$°C, teniendo así que con ayuda de la integración Montecarlo se obtuvieron los resultados de un área de $22.46$ para la flama producida en total y un área de $5.44$ para la zona en la que debe ser posicionada el asa bacteriológica. "
   ]
  },
  {
   "cell_type": "markdown",
   "metadata": {},
   "source": [
    "## Referencias"
   ]
  },
  {
   "cell_type": "markdown",
   "metadata": {},
   "source": [
    "N.A. Como se esteriliza un asa de inoculacion? (2020, 16 octubre). From: https://respuestacorta.com.mx/como-se-esteriliza-un-asa-de-inoculacion/"
   ]
  }
 ],
 "metadata": {
  "kernelspec": {
   "display_name": "Python 3",
   "language": "python",
   "name": "python3"
  },
  "language_info": {
   "codemirror_mode": {
    "name": "ipython",
    "version": 3
   },
   "file_extension": ".py",
   "mimetype": "text/x-python",
   "name": "python",
   "nbconvert_exporter": "python",
   "pygments_lexer": "ipython3",
   "version": "3.8.5"
  }
 },
 "nbformat": 4,
 "nbformat_minor": 4
}
